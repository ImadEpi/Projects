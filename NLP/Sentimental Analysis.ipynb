{
 "cells": [
  {
   "cell_type": "code",
   "execution_count": 1,
   "id": "3865c253",
   "metadata": {},
   "outputs": [
    {
     "name": "stderr",
     "output_type": "stream",
     "text": [
      "[nltk_data] Downloading package twitter_samples to\n",
      "[nltk_data]     /Users/imad/nltk_data...\n",
      "[nltk_data]   Package twitter_samples is already up-to-date!\n"
     ]
    }
   ],
   "source": [
    "import json\n",
    "import csv\n",
    "import tweepy\n",
    "import re\n",
    "import io\n",
    "import spacy\n",
    "import numpy as np\n",
    "import pandas as pd\n",
    "\n",
    "from nltk.stem import WordNetLemmatizer\n",
    "from nltk.corpus import stopwords  \n",
    "from nltk.corpus import twitter_samples\n",
    "import pickle\n",
    "import nltk\n",
    "nltk.download('twitter_samples')\n",
    "\n",
    "from sklearn.metrics import classification_report\n",
    "from sklearn.metrics import precision_recall_fscore_support as score\n",
    "from sklearn.metrics import confusion_matrix\n",
    "\n",
    "import matplotlib.pyplot as plt\n",
    "import seaborn as sns"
   ]
  },
  {
   "cell_type": "markdown",
   "id": "ddd21cc1",
   "metadata": {},
   "source": [
    "# 1. Consommer une A.P.I. issue d'un réseau sociale pour créer un Dataset "
   ]
  },
  {
   "cell_type": "code",
   "execution_count": 2,
   "id": "38748fbf",
   "metadata": {},
   "outputs": [],
   "source": [
    "key = '9MEKTohHO9znsDTCEK0etpWJO'\n",
    "secret = 'wmouBMmW654E6d35xi5vcEKFk22czU8aKl72sHK6VFbfI8TK8G'\n",
    "token = '1437692687021481985-2tNIyf0RoYvjrabwy13jurkpJoQ1Fr'\n",
    "token_secret = 'dJGozBqPtPun0TXw9KqlQBYYTgqNfkAsfBjvKHOPaGeUK'"
   ]
  },
  {
   "cell_type": "code",
   "execution_count": 3,
   "id": "1fb8494d",
   "metadata": {},
   "outputs": [],
   "source": [
    "auth = tweepy.OAuthHandler(key,secret)\n",
    "auth.set_access_token(token,token_secret)\n",
    "api = tweepy.API(auth, wait_on_rate_limit=True)"
   ]
  },
  {
   "cell_type": "code",
   "execution_count": 4,
   "id": "e074d303",
   "metadata": {},
   "outputs": [],
   "source": [
    "# Name of csv file to be created\n",
    "fname = \"dataset\"\n",
    "hashtag_phrase= \"@TRUMP\"\n",
    "\n",
    "# Open the spreadsheet\n",
    "with open('%s.csv' % (fname), 'w', encoding=\"utf-8\") as file:\n",
    "    w = csv.writer(file)\n",
    "\n",
    "    # Write header row (feature column names of your choice)\n",
    "    w.writerow(['timestamp', 'tweet_text', 'username', 'all_hashtags', 'location', \n",
    "                'followers_count', 'retweet_count', 'favorite_count'])\n",
    "\n",
    "    # For each tweet matching hashtag, write relevant info to the spreadsheet\n",
    "    for tweet in tweepy.Cursor(api.search, q=hashtag_phrase+' -filter:retweets', lang=\"en\", tweet_mode='extended').items(1000):\n",
    "        w.writerow([\n",
    "                    tweet.created_at, \n",
    "                    tweet.full_text.replace('\\n',' ').encode('utf-8'), \n",
    "                    tweet.user.screen_name.encode('utf-8'), \n",
    "                    [e['text'] for e in tweet._json['entities']['hashtags']],  \n",
    "                    tweet.user.location, \n",
    "                    tweet.user.followers_count, \n",
    "                    tweet.retweet_count, \n",
    "                    tweet.favorite_count\n",
    "                    ])\n"
   ]
  },
  {
   "cell_type": "code",
   "execution_count": 5,
   "id": "ec46e25d",
   "metadata": {},
   "outputs": [
    {
     "data": {
      "text/html": [
       "<div>\n",
       "<style scoped>\n",
       "    .dataframe tbody tr th:only-of-type {\n",
       "        vertical-align: middle;\n",
       "    }\n",
       "\n",
       "    .dataframe tbody tr th {\n",
       "        vertical-align: top;\n",
       "    }\n",
       "\n",
       "    .dataframe thead th {\n",
       "        text-align: right;\n",
       "    }\n",
       "</style>\n",
       "<table border=\"1\" class=\"dataframe\">\n",
       "  <thead>\n",
       "    <tr style=\"text-align: right;\">\n",
       "      <th></th>\n",
       "      <th>tweet_text</th>\n",
       "    </tr>\n",
       "  </thead>\n",
       "  <tbody>\n",
       "    <tr>\n",
       "      <th>0</th>\n",
       "      <td>timestamp,tweet_text,username,all_hashtags,loc...</td>\n",
       "    </tr>\n",
       "    <tr>\n",
       "      <th>1</th>\n",
       "      <td>2021-09-20 11:30:06,\"b\"\"Each time you tweet, @...</td>\n",
       "    </tr>\n",
       "    <tr>\n",
       "      <th>2</th>\n",
       "      <td>2021-09-20 10:50:50,\"b\"\"@MaryPatFlynn1 @donwin...</td>\n",
       "    </tr>\n",
       "    <tr>\n",
       "      <th>3</th>\n",
       "      <td>2021-09-20 10:44:27,\"b'@donwinslow @ThugLifeSo...</td>\n",
       "    </tr>\n",
       "    <tr>\n",
       "      <th>4</th>\n",
       "      <td>2021-09-20 10:24:33,\"b'@donwinslow @ThugLifeSo...</td>\n",
       "    </tr>\n",
       "    <tr>\n",
       "      <th>...</th>\n",
       "      <td>...</td>\n",
       "    </tr>\n",
       "    <tr>\n",
       "      <th>92</th>\n",
       "      <td>2021-09-19 13:49:36,b'@Casper324B @DoggyMichae...</td>\n",
       "    </tr>\n",
       "    <tr>\n",
       "      <th>93</th>\n",
       "      <td>2021-09-19 13:29:21,\"b\"\"Each time you tweet, @...</td>\n",
       "    </tr>\n",
       "    <tr>\n",
       "      <th>94</th>\n",
       "      <td>2021-09-19 13:07:09,\"b\"\"@DonaldJTrumpJr And ho...</td>\n",
       "    </tr>\n",
       "    <tr>\n",
       "      <th>95</th>\n",
       "      <td>2021-09-19 12:05:54,b'@Casper324B @dguilford @...</td>\n",
       "    </tr>\n",
       "    <tr>\n",
       "      <th>96</th>\n",
       "      <td>2021-09-19 11:37:46,\"b\"\"@RepMattGaetz @mtgreen...</td>\n",
       "    </tr>\n",
       "  </tbody>\n",
       "</table>\n",
       "<p>97 rows × 1 columns</p>\n",
       "</div>"
      ],
      "text/plain": [
       "                                           tweet_text\n",
       "0   timestamp,tweet_text,username,all_hashtags,loc...\n",
       "1   2021-09-20 11:30:06,\"b\"\"Each time you tweet, @...\n",
       "2   2021-09-20 10:50:50,\"b\"\"@MaryPatFlynn1 @donwin...\n",
       "3   2021-09-20 10:44:27,\"b'@donwinslow @ThugLifeSo...\n",
       "4   2021-09-20 10:24:33,\"b'@donwinslow @ThugLifeSo...\n",
       "..                                                ...\n",
       "92  2021-09-19 13:49:36,b'@Casper324B @DoggyMichae...\n",
       "93  2021-09-19 13:29:21,\"b\"\"Each time you tweet, @...\n",
       "94  2021-09-19 13:07:09,\"b\"\"@DonaldJTrumpJr And ho...\n",
       "95  2021-09-19 12:05:54,b'@Casper324B @dguilford @...\n",
       "96  2021-09-19 11:37:46,\"b\"\"@RepMattGaetz @mtgreen...\n",
       "\n",
       "[97 rows x 1 columns]"
      ]
     },
     "execution_count": 5,
     "metadata": {},
     "output_type": "execute_result"
    }
   ],
   "source": [
    "data = open('dataset.csv') \n",
    "df2 = pd.DataFrame(data, columns = ['tweet_text'])\n",
    "df2"
   ]
  },
  {
   "cell_type": "markdown",
   "id": "15734416",
   "metadata": {},
   "source": [
    "# 2 . Utiliser du machine Learning (ou du Deep Learning) pour classifier les différents commentaires selon s'ils sont excellent, bon, neutre, mauvais, exécrable"
   ]
  },
  {
   "cell_type": "code",
   "execution_count": 6,
   "id": "7b4d2660",
   "metadata": {},
   "outputs": [
    {
     "data": {
      "text/plain": [
       "<bound method NDFrame.head of                  tweet_id airline_sentiment  airline_sentiment_confidence  \\\n",
       "0      570306133677760513           neutral                        1.0000   \n",
       "1      570301130888122368          positive                        0.3486   \n",
       "2      570301083672813571           neutral                        0.6837   \n",
       "3      570301031407624196          negative                        1.0000   \n",
       "4      570300817074462722          negative                        1.0000   \n",
       "...                   ...               ...                           ...   \n",
       "14635  569587686496825344          positive                        0.3487   \n",
       "14636  569587371693355008          negative                        1.0000   \n",
       "14637  569587242672398336           neutral                        1.0000   \n",
       "14638  569587188687634433          negative                        1.0000   \n",
       "14639  569587140490866689           neutral                        0.6771   \n",
       "\n",
       "               negativereason  negativereason_confidence         airline  \\\n",
       "0                         NaN                        NaN  Virgin America   \n",
       "1                         NaN                     0.0000  Virgin America   \n",
       "2                         NaN                        NaN  Virgin America   \n",
       "3                  Bad Flight                     0.7033  Virgin America   \n",
       "4                  Can't Tell                     1.0000  Virgin America   \n",
       "...                       ...                        ...             ...   \n",
       "14635                     NaN                     0.0000        American   \n",
       "14636  Customer Service Issue                     1.0000        American   \n",
       "14637                     NaN                        NaN        American   \n",
       "14638  Customer Service Issue                     0.6659        American   \n",
       "14639                     NaN                     0.0000        American   \n",
       "\n",
       "      airline_sentiment_gold             name negativereason_gold  \\\n",
       "0                        NaN          cairdin                 NaN   \n",
       "1                        NaN         jnardino                 NaN   \n",
       "2                        NaN       yvonnalynn                 NaN   \n",
       "3                        NaN         jnardino                 NaN   \n",
       "4                        NaN         jnardino                 NaN   \n",
       "...                      ...              ...                 ...   \n",
       "14635                    NaN  KristenReenders                 NaN   \n",
       "14636                    NaN         itsropes                 NaN   \n",
       "14637                    NaN         sanyabun                 NaN   \n",
       "14638                    NaN       SraJackson                 NaN   \n",
       "14639                    NaN        daviddtwu                 NaN   \n",
       "\n",
       "       retweet_count                                               text  \\\n",
       "0                  0                @VirginAmerica What @dhepburn said.   \n",
       "1                  0  @VirginAmerica plus you've added commercials t...   \n",
       "2                  0  @VirginAmerica I didn't today... Must mean I n...   \n",
       "3                  0  @VirginAmerica it's really aggressive to blast...   \n",
       "4                  0  @VirginAmerica and it's a really big bad thing...   \n",
       "...              ...                                                ...   \n",
       "14635              0  @AmericanAir thank you we got on a different f...   \n",
       "14636              0  @AmericanAir leaving over 20 minutes Late Flig...   \n",
       "14637              0  @AmericanAir Please bring American Airlines to...   \n",
       "14638              0  @AmericanAir you have my money, you change my ...   \n",
       "14639              0  @AmericanAir we have 8 ppl so we need 2 know h...   \n",
       "\n",
       "      tweet_coord              tweet_created tweet_location  \\\n",
       "0             NaN  2015-02-24 11:35:52 -0800            NaN   \n",
       "1             NaN  2015-02-24 11:15:59 -0800            NaN   \n",
       "2             NaN  2015-02-24 11:15:48 -0800      Lets Play   \n",
       "3             NaN  2015-02-24 11:15:36 -0800            NaN   \n",
       "4             NaN  2015-02-24 11:14:45 -0800            NaN   \n",
       "...           ...                        ...            ...   \n",
       "14635         NaN  2015-02-22 12:01:01 -0800            NaN   \n",
       "14636         NaN  2015-02-22 11:59:46 -0800          Texas   \n",
       "14637         NaN  2015-02-22 11:59:15 -0800  Nigeria,lagos   \n",
       "14638         NaN  2015-02-22 11:59:02 -0800     New Jersey   \n",
       "14639         NaN  2015-02-22 11:58:51 -0800     dallas, TX   \n",
       "\n",
       "                    user_timezone  \n",
       "0      Eastern Time (US & Canada)  \n",
       "1      Pacific Time (US & Canada)  \n",
       "2      Central Time (US & Canada)  \n",
       "3      Pacific Time (US & Canada)  \n",
       "4      Pacific Time (US & Canada)  \n",
       "...                           ...  \n",
       "14635                         NaN  \n",
       "14636                         NaN  \n",
       "14637                         NaN  \n",
       "14638  Eastern Time (US & Canada)  \n",
       "14639                         NaN  \n",
       "\n",
       "[14640 rows x 15 columns]>"
      ]
     },
     "execution_count": 6,
     "metadata": {},
     "output_type": "execute_result"
    }
   ],
   "source": [
    "import pandas as pd\n",
    "df = pd.read_csv('Tweets.csv')\n",
    "df.head"
   ]
  },
  {
   "cell_type": "code",
   "execution_count": 7,
   "id": "e6287790",
   "metadata": {},
   "outputs": [],
   "source": [
    "from sklearn.model_selection import train_test_split\n",
    "from sklearn import preprocessing\n",
    "reviews = preprocessing.LabelEncoder()"
   ]
  },
  {
   "cell_type": "code",
   "execution_count": 8,
   "id": "2c8327b9",
   "metadata": {},
   "outputs": [],
   "source": [
    "reviews = df.iloc[:, 10].values \n",
    "labels = df.iloc[:, 1].values"
   ]
  },
  {
   "cell_type": "code",
   "execution_count": 9,
   "id": "d55d0921",
   "metadata": {},
   "outputs": [],
   "source": [
    "#X = df.iloc[:, 10].values  \n",
    "#y = df.iloc[:, 1].values"
   ]
  },
  {
   "cell_type": "code",
   "execution_count": 10,
   "id": "ec936e5b",
   "metadata": {},
   "outputs": [],
   "source": [
    "processed_tweets = []\n",
    " \n",
    "for tweet in range(0, len(reviews)):  \n",
    "    # Remove all the special characters\n",
    "    processed_tweet = re.sub(r'\\W', ' ', str(reviews[tweet]))\n",
    " \n",
    "    # remove all single characters\n",
    "    processed_tweet = re.sub(r'\\s+[a-zA-Z]\\s+', ' ', processed_tweet)\n",
    " \n",
    "    # Remove single characters from the start\n",
    "    processed_tweet = re.sub(r'\\^[a-zA-Z]\\s+', ' ', processed_tweet) \n",
    " \n",
    "    # Substituting multiple spaces with single space\n",
    "    processed_tweet= re.sub(r'\\s+', ' ', processed_tweet, flags=re.I)\n",
    " \n",
    "    # Removing prefixed 'b'\n",
    "    processed_tweet = re.sub(r'^b\\s+', '', processed_tweet)\n",
    " \n",
    "    # Converting to Lowercase\n",
    "    processed_tweet = processed_tweet.lower()\n",
    "    processed_tweets.append(processed_tweet)\n",
    "    \n",
    "    #Stopwords\n",
    "    #stop_words = set(stopwords.words('english'))\n",
    "    #processed_tweet = [w for w in processed_tweet if not w in stop_words]\n",
    "    #processed_tweets.append(processed_tweet)"
   ]
  },
  {
   "cell_type": "code",
   "execution_count": 11,
   "id": "b3f2fe28",
   "metadata": {},
   "outputs": [],
   "source": [
    "#Split data\n",
    "reviews = processed_tweets\n",
    "reviews_train, reviews_test, y_train, y_test = train_test_split(reviews, labels, test_size=0.2, random_state=1000)"
   ]
  },
  {
   "cell_type": "code",
   "execution_count": 12,
   "id": "45e8d972",
   "metadata": {},
   "outputs": [],
   "source": [
    "\n",
    "from sklearn.feature_extraction.text import CountVectorizer\n",
    "\n",
    "vectorizer = CountVectorizer()\n",
    "vectorizer.fit(reviews_train)\n",
    "X_train = vectorizer.transform(reviews_train)\n",
    "X_test = vectorizer.transform(reviews_test)"
   ]
  },
  {
   "cell_type": "code",
   "execution_count": 13,
   "id": "6ae1632b",
   "metadata": {},
   "outputs": [
    {
     "data": {
      "text/plain": [
       "LogisticRegression(max_iter=10000)"
      ]
     },
     "execution_count": 13,
     "metadata": {},
     "output_type": "execute_result"
    }
   ],
   "source": [
    "from sklearn.linear_model import LogisticRegression\n",
    "\n",
    "classifier = LogisticRegression(max_iter=10000)\n",
    "classifier.fit(X_train, y_train)"
   ]
  },
  {
   "cell_type": "code",
   "execution_count": 14,
   "id": "1c3c0ab8",
   "metadata": {},
   "outputs": [
    {
     "name": "stdout",
     "output_type": "stream",
     "text": [
      "Accuracy: 0.8084016393442623\n"
     ]
    }
   ],
   "source": [
    "accuracy = classifier.score(X_test, y_test)\n",
    "print('Accuracy:', accuracy)"
   ]
  },
  {
   "cell_type": "code",
   "execution_count": 15,
   "id": "6b27de43",
   "metadata": {},
   "outputs": [
    {
     "data": {
      "text/plain": [
       "array(['positive', 'negative', 'neutral'], dtype=object)"
      ]
     },
     "execution_count": 15,
     "metadata": {},
     "output_type": "execute_result"
    }
   ],
   "source": [
    "new_reviews = ['good excellent happy','sad bad terrible fight','ok neutral chill']\n",
    "X_new = vectorizer.transform(new_reviews)\n",
    "classifier.predict(X_new)"
   ]
  },
  {
   "cell_type": "code",
   "execution_count": 16,
   "id": "12461bd7",
   "metadata": {},
   "outputs": [
    {
     "data": {
      "text/plain": [
       "array(['positive', 'negative', 'negative'], dtype=object)"
      ]
     },
     "execution_count": 16,
     "metadata": {},
     "output_type": "execute_result"
    }
   ],
   "source": [
    "new_reviews = ['I love you my president Trump is the man  And our hope in united states', 'This thread details the extraordinary lengths @Trump  then went to in order to overturn the results of the election whilst pushing the fake Stop the Steal narrative', 'Now they are ramping up the lies, disinformation, crazy, divisive and dangerous rhetoric heading towards']\n",
    "X_new = vectorizer.transform(new_reviews)\n",
    "classifier.predict(X_new)"
   ]
  },
  {
   "cell_type": "markdown",
   "id": "b82ccef1",
   "metadata": {},
   "source": [
    "# 3. Pouvoir sauvegarder le modèle et le réutiliser et faire plusieurs versions"
   ]
  },
  {
   "cell_type": "code",
   "execution_count": 17,
   "id": "cd5ee05c",
   "metadata": {},
   "outputs": [],
   "source": [
    "import pickle\n",
    "filename = 'finalized_model.sav'\n",
    "pickle.dump(classifier, open(filename, 'wb'))"
   ]
  },
  {
   "cell_type": "markdown",
   "id": "b1b00d4b",
   "metadata": {},
   "source": [
    "# 4. Faire une courte analyse du modèle et vérifier que le résultat attendu est atteint"
   ]
  },
  {
   "cell_type": "code",
   "execution_count": 18,
   "id": "ca29391c",
   "metadata": {},
   "outputs": [
    {
     "name": "stdout",
     "output_type": "stream",
     "text": [
      "              precision    recall  f1-score   support\n",
      "\n",
      "    negative       0.87      0.90      0.88      1882\n",
      "     neutral       0.64      0.62      0.63       600\n",
      "    positive       0.75      0.69      0.72       446\n",
      "\n",
      "    accuracy                           0.81      2928\n",
      "   macro avg       0.75      0.74      0.74      2928\n",
      "weighted avg       0.81      0.81      0.81      2928\n",
      "\n"
     ]
    }
   ],
   "source": [
    "y_pred = classifier.predict(X_test)\n",
    "cr = classification_report(y_test, y_pred)\n",
    "print(cr)"
   ]
  },
  {
   "cell_type": "code",
   "execution_count": 19,
   "id": "e0af1021",
   "metadata": {},
   "outputs": [
    {
     "data": {
      "text/html": [
       "<div>\n",
       "<style scoped>\n",
       "    .dataframe tbody tr th:only-of-type {\n",
       "        vertical-align: middle;\n",
       "    }\n",
       "\n",
       "    .dataframe tbody tr th {\n",
       "        vertical-align: top;\n",
       "    }\n",
       "\n",
       "    .dataframe thead th {\n",
       "        text-align: right;\n",
       "    }\n",
       "</style>\n",
       "<table border=\"1\" class=\"dataframe\">\n",
       "  <thead>\n",
       "    <tr style=\"text-align: right;\">\n",
       "      <th></th>\n",
       "      <th>NEGATIVE</th>\n",
       "      <th>NEUTRAL</th>\n",
       "      <th>POSITIVE</th>\n",
       "    </tr>\n",
       "  </thead>\n",
       "  <tbody>\n",
       "    <tr>\n",
       "      <th>NEGATIVE</th>\n",
       "      <td>1686</td>\n",
       "      <td>149</td>\n",
       "      <td>47</td>\n",
       "    </tr>\n",
       "    <tr>\n",
       "      <th>NEUTRAL</th>\n",
       "      <td>172</td>\n",
       "      <td>372</td>\n",
       "      <td>56</td>\n",
       "    </tr>\n",
       "    <tr>\n",
       "      <th>POSITIVE</th>\n",
       "      <td>73</td>\n",
       "      <td>64</td>\n",
       "      <td>309</td>\n",
       "    </tr>\n",
       "  </tbody>\n",
       "</table>\n",
       "</div>"
      ],
      "text/plain": [
       "          NEGATIVE  NEUTRAL  POSITIVE\n",
       "NEGATIVE      1686      149        47\n",
       "NEUTRAL        172      372        56\n",
       "POSITIVE        73       64       309"
      ]
     },
     "execution_count": 19,
     "metadata": {},
     "output_type": "execute_result"
    }
   ],
   "source": [
    "cm = confusion_matrix(y_test, y_pred)\n",
    "cm_df = pd.DataFrame(cm,\n",
    "                     index = ['NEGATIVE','NEUTRAL','POSITIVE'], \n",
    "                     columns = ['NEGATIVE','NEUTRAL','POSITIVE'],)\n",
    "cm_df"
   ]
  },
  {
   "cell_type": "code",
   "execution_count": 20,
   "id": "671776cd",
   "metadata": {
    "scrolled": true
   },
   "outputs": [
    {
     "data": {
      "image/png": "[encoded data removed]",
      "text/plain": [
       "<Figure size 576x576 with 2 Axes>"
      ]
     },
     "metadata": {
      "needs_background": "light"
     },
     "output_type": "display_data"
    }
   ],
   "source": [
    "#Plotting the confusion matrix\n",
    "plt.figure(figsize=(8,8))\n",
    "sns.heatmap(cm_df, annot=True)\n",
    "plt.title('Confusion Matrix')\n",
    "plt.ylabel('Actal Values')\n",
    "plt.xlabel('Predicted Values')\n",
    "plt.show()"
   ]
  },
  {
   "cell_type": "markdown",
   "id": "1576632b",
   "metadata": {},
   "source": [
    "# Load Model Score "
   ]
  },
  {
   "cell_type": "code",
   "execution_count": 21,
   "id": "6cb292b4",
   "metadata": {},
   "outputs": [
    {
     "name": "stdout",
     "output_type": "stream",
     "text": [
      "0.8084016393442623\n"
     ]
    }
   ],
   "source": [
    "loaded_model = pickle.load(open(filename, 'rb'))\n",
    "result = loaded_model.score(X_test, y_test)\n",
    "print(result)"
   ]
  }
 ],
 "metadata": {
  "kernelspec": {
   "display_name": "Python 3 (ipykernel)",
   "language": "python",
   "name": "python3"
  },
  "language_info": {
   "codemirror_mode": {
    "name": "ipython",
    "version": 3
   },
   "file_extension": ".py",
   "mimetype": "text/x-python",
   "name": "python",
   "nbconvert_exporter": "python",
   "pygments_lexer": "ipython3",
   "version": "3.9.7"
  }
 },
 "nbformat": 4,
 "nbformat_minor": 5
}
