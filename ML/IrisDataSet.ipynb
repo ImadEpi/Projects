{
 "cells": [
  {
   "cell_type": "code",
   "execution_count": 1,
   "id": "1b1e7306",
   "metadata": {},
   "outputs": [],
   "source": [
    "import pandas as pd\n",
    "import numpy as np\n",
    "\n",
    "from sklearn.svm import LinearSVC\n",
    "from sklearn import svm\n",
    "from sklearn.preprocessing import StandardScaler\n",
    "from sklearn.pipeline import Pipeline\n",
    "\n",
    "import seaborn as sns\n",
    "import matplotlib.pyplot as plt\n",
    "\n",
    "\n",
    "from sklearn.model_selection import train_test_split\n",
    "from sklearn.metrics import plot_confusion_matrix\n",
    "\n",
    "from sklearn.metrics import precision_recall_fscore_support as score\n",
    "from sklearn.metrics import confusion_matrix\n",
    "from sklearn.metrics import classification_report\n",
    "from sklearn.metrics import roc_curve \n",
    "from sklearn.compose import ColumnTransformer"
   ]
  },
  {
   "cell_type": "code",
   "execution_count": 2,
   "id": "b089edd8",
   "metadata": {},
   "outputs": [
    {
     "data": {
      "text/html": [
       "<div>\n",
       "<style scoped>\n",
       "    .dataframe tbody tr th:only-of-type {\n",
       "        vertical-align: middle;\n",
       "    }\n",
       "\n",
       "    .dataframe tbody tr th {\n",
       "        vertical-align: top;\n",
       "    }\n",
       "\n",
       "    .dataframe thead th {\n",
       "        text-align: right;\n",
       "    }\n",
       "</style>\n",
       "<table border=\"1\" class=\"dataframe\">\n",
       "  <thead>\n",
       "    <tr style=\"text-align: right;\">\n",
       "      <th></th>\n",
       "      <th>petal_length</th>\n",
       "      <th>petal_width</th>\n",
       "      <th>species</th>\n",
       "      <th>is_setosa</th>\n",
       "      <th>is_versicolor</th>\n",
       "      <th>is_virginica</th>\n",
       "    </tr>\n",
       "  </thead>\n",
       "  <tbody>\n",
       "    <tr>\n",
       "      <th>0</th>\n",
       "      <td>1.4</td>\n",
       "      <td>0.2</td>\n",
       "      <td>Iris-setosa</td>\n",
       "      <td>1</td>\n",
       "      <td>0</td>\n",
       "      <td>0</td>\n",
       "    </tr>\n",
       "    <tr>\n",
       "      <th>1</th>\n",
       "      <td>1.4</td>\n",
       "      <td>0.2</td>\n",
       "      <td>Iris-setosa</td>\n",
       "      <td>1</td>\n",
       "      <td>0</td>\n",
       "      <td>0</td>\n",
       "    </tr>\n",
       "    <tr>\n",
       "      <th>2</th>\n",
       "      <td>1.3</td>\n",
       "      <td>0.2</td>\n",
       "      <td>Iris-setosa</td>\n",
       "      <td>1</td>\n",
       "      <td>0</td>\n",
       "      <td>0</td>\n",
       "    </tr>\n",
       "    <tr>\n",
       "      <th>3</th>\n",
       "      <td>1.5</td>\n",
       "      <td>0.2</td>\n",
       "      <td>Iris-setosa</td>\n",
       "      <td>1</td>\n",
       "      <td>0</td>\n",
       "      <td>0</td>\n",
       "    </tr>\n",
       "    <tr>\n",
       "      <th>4</th>\n",
       "      <td>1.4</td>\n",
       "      <td>0.2</td>\n",
       "      <td>Iris-setosa</td>\n",
       "      <td>1</td>\n",
       "      <td>0</td>\n",
       "      <td>0</td>\n",
       "    </tr>\n",
       "    <tr>\n",
       "      <th>...</th>\n",
       "      <td>...</td>\n",
       "      <td>...</td>\n",
       "      <td>...</td>\n",
       "      <td>...</td>\n",
       "      <td>...</td>\n",
       "      <td>...</td>\n",
       "    </tr>\n",
       "    <tr>\n",
       "      <th>145</th>\n",
       "      <td>5.2</td>\n",
       "      <td>2.3</td>\n",
       "      <td>Iris-virginica</td>\n",
       "      <td>0</td>\n",
       "      <td>0</td>\n",
       "      <td>1</td>\n",
       "    </tr>\n",
       "    <tr>\n",
       "      <th>146</th>\n",
       "      <td>5.0</td>\n",
       "      <td>1.9</td>\n",
       "      <td>Iris-virginica</td>\n",
       "      <td>0</td>\n",
       "      <td>0</td>\n",
       "      <td>1</td>\n",
       "    </tr>\n",
       "    <tr>\n",
       "      <th>147</th>\n",
       "      <td>5.2</td>\n",
       "      <td>2.0</td>\n",
       "      <td>Iris-virginica</td>\n",
       "      <td>0</td>\n",
       "      <td>0</td>\n",
       "      <td>1</td>\n",
       "    </tr>\n",
       "    <tr>\n",
       "      <th>148</th>\n",
       "      <td>5.4</td>\n",
       "      <td>2.3</td>\n",
       "      <td>Iris-virginica</td>\n",
       "      <td>0</td>\n",
       "      <td>0</td>\n",
       "      <td>1</td>\n",
       "    </tr>\n",
       "    <tr>\n",
       "      <th>149</th>\n",
       "      <td>5.1</td>\n",
       "      <td>1.8</td>\n",
       "      <td>Iris-virginica</td>\n",
       "      <td>0</td>\n",
       "      <td>0</td>\n",
       "      <td>1</td>\n",
       "    </tr>\n",
       "  </tbody>\n",
       "</table>\n",
       "<p>150 rows × 6 columns</p>\n",
       "</div>"
      ],
      "text/plain": [
       "     petal_length  petal_width         species  is_setosa  is_versicolor  \\\n",
       "0             1.4          0.2     Iris-setosa          1              0   \n",
       "1             1.4          0.2     Iris-setosa          1              0   \n",
       "2             1.3          0.2     Iris-setosa          1              0   \n",
       "3             1.5          0.2     Iris-setosa          1              0   \n",
       "4             1.4          0.2     Iris-setosa          1              0   \n",
       "..            ...          ...             ...        ...            ...   \n",
       "145           5.2          2.3  Iris-virginica          0              0   \n",
       "146           5.0          1.9  Iris-virginica          0              0   \n",
       "147           5.2          2.0  Iris-virginica          0              0   \n",
       "148           5.4          2.3  Iris-virginica          0              0   \n",
       "149           5.1          1.8  Iris-virginica          0              0   \n",
       "\n",
       "     is_virginica  \n",
       "0               0  \n",
       "1               0  \n",
       "2               0  \n",
       "3               0  \n",
       "4               0  \n",
       "..            ...  \n",
       "145             1  \n",
       "146             1  \n",
       "147             1  \n",
       "148             1  \n",
       "149             1  \n",
       "\n",
       "[150 rows x 6 columns]"
      ]
     },
     "execution_count": 2,
     "metadata": {},
     "output_type": "execute_result"
    }
   ],
   "source": [
    "iris = pd.read_csv(\"iris_dataset.csv\")\n",
    "iris['is_setosa'] = np.where(iris['species']== 'Iris-setosa', 1, 0)\n",
    "iris['is_versicolor'] = np.where(iris['species']== 'Iris-versicolor', 1, 0)\n",
    "iris['is_virginica'] = np.where(iris['species']== 'Iris-virginica', 1, 0)\n",
    "iris"
   ]
  },
  {
   "cell_type": "code",
   "execution_count": 3,
   "id": "b108dcb3",
   "metadata": {},
   "outputs": [
    {
     "data": {
      "image/png": "[encoded data removed]",
      "text/plain": [
       "<Figure size 463.25x360 with 1 Axes>"
      ]
     },
     "metadata": {
      "needs_background": "light"
     },
     "output_type": "display_data"
    }
   ],
   "source": [
    "x = 'petal_length'\n",
    "y = 'petal_width'\n",
    "sns.lmplot(x=x, y=y, data=iris, hue='species',\n",
    "           palette='Set1', fit_reg=False);"
   ]
  },
  {
   "cell_type": "markdown",
   "id": "b2b1f24a",
   "metadata": {},
   "source": [
    "# Iris-Setosa"
   ]
  },
  {
   "cell_type": "markdown",
   "id": "ee5e1b12",
   "metadata": {},
   "source": [
    "## 1 - create a binary classifier to detect this kind of Iris using LinearSVC from sklearn."
   ]
  },
  {
   "cell_type": "code",
   "execution_count": 21,
   "id": "434e7006",
   "metadata": {},
   "outputs": [
    {
     "name": "stdout",
     "output_type": "stream",
     "text": [
      "0.9333333333333333\n",
      "['Iris-setosa']\n"
     ]
    }
   ],
   "source": [
    "#traitement du fichier csv\n",
    "df = pd.read_csv(\"iris_dataset.csv\")\n",
    "a = iris.loc[:, \"petal_length\"]\n",
    "b = iris.loc[:, \"petal_width\"]\n",
    "x = list(zip(a, b))\n",
    "y = iris.loc[:, \"species\"]\n",
    "iris.head()\n",
    "#fractionner dataset (train-test)\n",
    "x_train, x_test, y_train, y_test = train_test_split(x, y, test_size = 0.20)\n",
    "#instanciation\n",
    "model_set = LinearSVC(C=3.0, class_weight=None, dual=True, fit_intercept=True,\n",
    "          intercept_scaling=1, loss='squared_hinge', max_iter=100000,\n",
    "          multi_class='ovr', penalty='l2', random_state=None, tol=0.0001,\n",
    "          verbose=0)\n",
    "\n",
    "#training\n",
    "lsvc = model_set.fit( x_train, y_train)\n",
    "\n",
    "#calcule de précision\n",
    "print( model_set.score( x_test, y_test))\n",
    "\n",
    "#Prédiction\n",
    "longueur = 2\n",
    "largeur = 0.2\n",
    "prediction = model_set.predict( [[longueur, largeur]])\n",
    "\n",
    "#affichage des résultats\n",
    "print(prediction)"
   ]
  },
  {
   "cell_type": "markdown",
   "id": "798fa916",
   "metadata": {},
   "source": [
    "## 2 - plot the decision boundaries of your model."
   ]
  },
  {
   "cell_type": "code",
   "execution_count": 8,
   "id": "b3da0430",
   "metadata": {},
   "outputs": [
    {
     "data": {
      "image/png": "[encoded data removed]",
      "text/plain": [
       "<Figure size 413.75x360 with 1 Axes>"
      ]
     },
     "metadata": {
      "needs_background": "light"
     },
     "output_type": "display_data"
    }
   ],
   "source": [
    "# Get the separating hyperplane\n",
    "w = model_set.coef_[0]\n",
    "a = -w[0] / w[1]\n",
    "xx = np.linspace(0, 3.7)\n",
    "yy = a * xx - (model_set.intercept_[0]) / w[1]\n",
    "\n",
    "# Plot the parallels to the separating hyperplane that pass through the support vectors\n",
    "\n",
    "# Plot the hyperplane\n",
    "sns.lmplot(x='petal_length',y='petal_width', data=iris, hue='is_setosa', palette='Set1', fit_reg=False, scatter_kws={\"s\": 50})\n",
    "plt.plot(xx, yy, linewidth=2, color='black');"
   ]
  },
  {
   "cell_type": "markdown",
   "id": "c10ab844",
   "metadata": {},
   "source": [
    "## 3 - display the performance indicators of your model : precision score, recall score, confusion matrix and ROC Curve"
   ]
  },
  {
   "cell_type": "code",
   "execution_count": 9,
   "id": "c744d635",
   "metadata": {},
   "outputs": [
    {
     "name": "stdout",
     "output_type": "stream",
     "text": [
      "Score:  0.925\n"
     ]
    }
   ],
   "source": [
    "lsvc.fit(x_train, y_train)\n",
    "score = lsvc.score(x_train, y_train)\n",
    "print(\"Score: \", score)\n"
   ]
  },
  {
   "cell_type": "code",
   "execution_count": 18,
   "id": "38ae9bc2",
   "metadata": {
    "scrolled": true
   },
   "outputs": [
    {
     "name": "stdout",
     "output_type": "stream",
     "text": [
      "                 precision    recall  f1-score   support\n",
      "\n",
      "    Iris-setosa       1.00      1.00      1.00        12\n",
      "Iris-versicolor       0.75      1.00      0.86         9\n",
      " Iris-virginica       1.00      0.67      0.80         9\n",
      "\n",
      "       accuracy                           0.90        30\n",
      "      macro avg       0.92      0.89      0.89        30\n",
      "   weighted avg       0.93      0.90      0.90        30\n",
      "\n"
     ]
    }
   ],
   "source": [
    "ypred = lsvc.predict(x_test)\n",
    "cr = classification_report(y_test, ypred)\n",
    "print(cr)"
   ]
  },
  {
   "cell_type": "code",
   "execution_count": 19,
   "id": "612c9f44",
   "metadata": {},
   "outputs": [
    {
     "data": {
      "text/html": [
       "<div>\n",
       "<style scoped>\n",
       "    .dataframe tbody tr th:only-of-type {\n",
       "        vertical-align: middle;\n",
       "    }\n",
       "\n",
       "    .dataframe tbody tr th {\n",
       "        vertical-align: top;\n",
       "    }\n",
       "\n",
       "    .dataframe thead th {\n",
       "        text-align: right;\n",
       "    }\n",
       "</style>\n",
       "<table border=\"1\" class=\"dataframe\">\n",
       "  <thead>\n",
       "    <tr style=\"text-align: right;\">\n",
       "      <th></th>\n",
       "      <th>SETOSA</th>\n",
       "      <th>VERSICOLOR</th>\n",
       "      <th>VIRGINICA</th>\n",
       "    </tr>\n",
       "  </thead>\n",
       "  <tbody>\n",
       "    <tr>\n",
       "      <th>SETOSA</th>\n",
       "      <td>12</td>\n",
       "      <td>0</td>\n",
       "      <td>0</td>\n",
       "    </tr>\n",
       "    <tr>\n",
       "      <th>VERSICOLOR</th>\n",
       "      <td>0</td>\n",
       "      <td>9</td>\n",
       "      <td>0</td>\n",
       "    </tr>\n",
       "    <tr>\n",
       "      <th>VIRGINICA</th>\n",
       "      <td>0</td>\n",
       "      <td>3</td>\n",
       "      <td>6</td>\n",
       "    </tr>\n",
       "  </tbody>\n",
       "</table>\n",
       "</div>"
      ],
      "text/plain": [
       "            SETOSA  VERSICOLOR  VIRGINICA\n",
       "SETOSA          12           0          0\n",
       "VERSICOLOR       0           9          0\n",
       "VIRGINICA        0           3          6"
      ]
     },
     "execution_count": 19,
     "metadata": {},
     "output_type": "execute_result"
    }
   ],
   "source": [
    "y_pred = model_set.predict(x_test)\n",
    "cm = confusion_matrix(y_test, y_pred)\n",
    "cm_df = pd.DataFrame(cm,\n",
    "                     index = ['SETOSA','VERSICOLOR','VIRGINICA'], \n",
    "                     columns = ['SETOSA','VERSICOLOR','VIRGINICA'],)\n",
    "cm_df"
   ]
  },
  {
   "cell_type": "code",
   "execution_count": 20,
   "id": "e6862de1",
   "metadata": {},
   "outputs": [
    {
     "data": {
      "image/png": "[encoded data removed]",
      "text/plain": [
       "<Figure size 576x576 with 2 Axes>"
      ]
     },
     "metadata": {
      "needs_background": "light"
     },
     "output_type": "display_data"
    }
   ],
   "source": [
    "#Plotting the confusion matrix\n",
    "plt.figure(figsize=(8,8))\n",
    "sns.heatmap(cm_df, annot=True)\n",
    "plt.title('Confusion Matrix')\n",
    "plt.ylabel('Actal Values')\n",
    "plt.xlabel('Predicted Values')\n",
    "plt.show()"
   ]
  },
  {
   "cell_type": "markdown",
   "id": "7c8aa8d1",
   "metadata": {},
   "source": [
    "## 4 - use StandardScaler to standardize the dataset as a preprocessing step, do you have better scores ?"
   ]
  },
  {
   "cell_type": "code",
   "execution_count": 10,
   "id": "55adbde7",
   "metadata": {},
   "outputs": [
    {
     "data": {
      "text/html": [
       "<div>\n",
       "<style scoped>\n",
       "    .dataframe tbody tr th:only-of-type {\n",
       "        vertical-align: middle;\n",
       "    }\n",
       "\n",
       "    .dataframe tbody tr th {\n",
       "        vertical-align: top;\n",
       "    }\n",
       "\n",
       "    .dataframe thead th {\n",
       "        text-align: right;\n",
       "    }\n",
       "</style>\n",
       "<table border=\"1\" class=\"dataframe\">\n",
       "  <thead>\n",
       "    <tr style=\"text-align: right;\">\n",
       "      <th></th>\n",
       "      <th>petal_length</th>\n",
       "      <th>petal_width</th>\n",
       "      <th>species</th>\n",
       "      <th>is_setosa</th>\n",
       "      <th>is_versicolor</th>\n",
       "      <th>is_virginica</th>\n",
       "    </tr>\n",
       "  </thead>\n",
       "  <tbody>\n",
       "    <tr>\n",
       "      <th>0</th>\n",
       "      <td>-1.341272</td>\n",
       "      <td>-1.312977</td>\n",
       "      <td>Iris-setosa</td>\n",
       "      <td>1</td>\n",
       "      <td>0</td>\n",
       "      <td>0</td>\n",
       "    </tr>\n",
       "    <tr>\n",
       "      <th>1</th>\n",
       "      <td>-1.341272</td>\n",
       "      <td>-1.312977</td>\n",
       "      <td>Iris-setosa</td>\n",
       "      <td>1</td>\n",
       "      <td>0</td>\n",
       "      <td>0</td>\n",
       "    </tr>\n",
       "    <tr>\n",
       "      <th>2</th>\n",
       "      <td>-1.398138</td>\n",
       "      <td>-1.312977</td>\n",
       "      <td>Iris-setosa</td>\n",
       "      <td>1</td>\n",
       "      <td>0</td>\n",
       "      <td>0</td>\n",
       "    </tr>\n",
       "    <tr>\n",
       "      <th>3</th>\n",
       "      <td>-1.284407</td>\n",
       "      <td>-1.312977</td>\n",
       "      <td>Iris-setosa</td>\n",
       "      <td>1</td>\n",
       "      <td>0</td>\n",
       "      <td>0</td>\n",
       "    </tr>\n",
       "    <tr>\n",
       "      <th>4</th>\n",
       "      <td>-1.341272</td>\n",
       "      <td>-1.312977</td>\n",
       "      <td>Iris-setosa</td>\n",
       "      <td>1</td>\n",
       "      <td>0</td>\n",
       "      <td>0</td>\n",
       "    </tr>\n",
       "    <tr>\n",
       "      <th>...</th>\n",
       "      <td>...</td>\n",
       "      <td>...</td>\n",
       "      <td>...</td>\n",
       "      <td>...</td>\n",
       "      <td>...</td>\n",
       "      <td>...</td>\n",
       "    </tr>\n",
       "    <tr>\n",
       "      <th>145</th>\n",
       "      <td>0.819624</td>\n",
       "      <td>1.447956</td>\n",
       "      <td>Iris-virginica</td>\n",
       "      <td>0</td>\n",
       "      <td>0</td>\n",
       "      <td>1</td>\n",
       "    </tr>\n",
       "    <tr>\n",
       "      <th>146</th>\n",
       "      <td>0.705893</td>\n",
       "      <td>0.922064</td>\n",
       "      <td>Iris-virginica</td>\n",
       "      <td>0</td>\n",
       "      <td>0</td>\n",
       "      <td>1</td>\n",
       "    </tr>\n",
       "    <tr>\n",
       "      <th>147</th>\n",
       "      <td>0.819624</td>\n",
       "      <td>1.053537</td>\n",
       "      <td>Iris-virginica</td>\n",
       "      <td>0</td>\n",
       "      <td>0</td>\n",
       "      <td>1</td>\n",
       "    </tr>\n",
       "    <tr>\n",
       "      <th>148</th>\n",
       "      <td>0.933356</td>\n",
       "      <td>1.447956</td>\n",
       "      <td>Iris-virginica</td>\n",
       "      <td>0</td>\n",
       "      <td>0</td>\n",
       "      <td>1</td>\n",
       "    </tr>\n",
       "    <tr>\n",
       "      <th>149</th>\n",
       "      <td>0.762759</td>\n",
       "      <td>0.790591</td>\n",
       "      <td>Iris-virginica</td>\n",
       "      <td>0</td>\n",
       "      <td>0</td>\n",
       "      <td>1</td>\n",
       "    </tr>\n",
       "  </tbody>\n",
       "</table>\n",
       "<p>150 rows × 6 columns</p>\n",
       "</div>"
      ],
      "text/plain": [
       "     petal_length  petal_width         species  is_setosa  is_versicolor  \\\n",
       "0       -1.341272    -1.312977     Iris-setosa          1              0   \n",
       "1       -1.341272    -1.312977     Iris-setosa          1              0   \n",
       "2       -1.398138    -1.312977     Iris-setosa          1              0   \n",
       "3       -1.284407    -1.312977     Iris-setosa          1              0   \n",
       "4       -1.341272    -1.312977     Iris-setosa          1              0   \n",
       "..            ...          ...             ...        ...            ...   \n",
       "145      0.819624     1.447956  Iris-virginica          0              0   \n",
       "146      0.705893     0.922064  Iris-virginica          0              0   \n",
       "147      0.819624     1.053537  Iris-virginica          0              0   \n",
       "148      0.933356     1.447956  Iris-virginica          0              0   \n",
       "149      0.762759     0.790591  Iris-virginica          0              0   \n",
       "\n",
       "     is_virginica  \n",
       "0               0  \n",
       "1               0  \n",
       "2               0  \n",
       "3               0  \n",
       "4               0  \n",
       "..            ...  \n",
       "145             1  \n",
       "146             1  \n",
       "147             1  \n",
       "148             1  \n",
       "149             1  \n",
       "\n",
       "[150 rows x 6 columns]"
      ]
     },
     "execution_count": 10,
     "metadata": {},
     "output_type": "execute_result"
    }
   ],
   "source": [
    "from sklearn.preprocessing import StandardScaler\n",
    "\n",
    "scaled_features = iris.copy()\n",
    "col_names = ['petal_length', 'petal_width']\n",
    "features = iris[col_names]\n",
    "features = scaled_features[col_names]\n",
    "scaler = StandardScaler().fit(features.values)\n",
    "features = scaler.transform(features.values)\n",
    "scaled_features[col_names] = features\n",
    "scaled_features\n"
   ]
  },
  {
   "cell_type": "code",
   "execution_count": 11,
   "id": "9e17634e",
   "metadata": {},
   "outputs": [
    {
     "name": "stdout",
     "output_type": "stream",
     "text": [
      "Score:  0.31666666666666665\n"
     ]
    }
   ],
   "source": [
    "#traitement du fichier csv\n",
    "a = scaled_features.loc[:, \"petal_length\"]\n",
    "b = scaled_features.loc[:, \"petal_width\"]\n",
    "x = list(zip(a, b))\n",
    "y = scaled_features.loc[:, \"species\"]\n",
    "scaled_features.head()\n",
    "#fractionner dataset (train-test)\n",
    "x_train, x_test, y_train, y_test = train_test_split(x, y, test_size = 0.20)\n",
    "#instanciation\n",
    "model_setC = LinearSVC(C=2.0, class_weight=None, dual=True, fit_intercept=True,\n",
    "          intercept_scaling=1, loss='squared_hinge', max_iter=1000000,\n",
    "          multi_class='ovr', penalty='l2', random_state=None, tol=0.0001,\n",
    "          verbose=0)\n",
    "\n",
    "#training\n",
    "lsvc2 = model_setC.fit( x_train, y_train)\n",
    "\n",
    "lsvc2.fit(x_train, y_train)\n",
    "score = lsvc.score(x_train, y_train)\n",
    "print(\"Score: \", score)"
   ]
  },
  {
   "cell_type": "markdown",
   "id": "bc6de2b2",
   "metadata": {},
   "source": [
    "# Iris-Versicolor"
   ]
  },
  {
   "cell_type": "markdown",
   "id": "2914f19e",
   "metadata": {},
   "source": [
    "## 1 - create a binary classifier to detect this kind of Iris using LinearSVC from sklearn."
   ]
  },
  {
   "cell_type": "code",
   "execution_count": 17,
   "id": "616cc9db",
   "metadata": {},
   "outputs": [
    {
     "name": "stdout",
     "output_type": "stream",
     "text": [
      "0.9\n",
      "['Iris-versicolor']\n"
     ]
    }
   ],
   "source": [
    "#traitement du fichier csv\n",
    "df = pd.read_csv(\"iris_dataset.csv\")\n",
    "a = df.loc[:, \"petal_length\"]\n",
    "b = df.loc[:, \"petal_width\"]\n",
    "x = list(zip(a, b))\n",
    "y = df.loc[:, \"species\"]\n",
    "df.head()\n",
    "#fractionner dataset (train-test)\n",
    "x_train, x_test, y_train, y_test = train_test_split(x, y, test_size = 0.20)\n",
    "#instanciation\n",
    "model_SVC = LinearSVC(C=1.0, class_weight=None, dual=True, fit_intercept=True,\n",
    "          intercept_scaling=1, loss='squared_hinge', max_iter=10000,\n",
    "          multi_class='ovr', penalty='l2', random_state=None, tol=0.0001,\n",
    "          verbose=0)\n",
    "\n",
    "#training\n",
    "lsvc = model_SVC.fit( x_train, y_train)\n",
    "\n",
    "#calcule de précision\n",
    "print( model_SVC.score( x_test, y_test))\n",
    "\n",
    "#Prédiction\n",
    "longueur = 10\n",
    "largeur = 0.5\n",
    "prediction = model_SVC.predict( [[longueur, largeur]])\n",
    "\n",
    "#affichage des résultats\n",
    "print(prediction)"
   ]
  },
  {
   "cell_type": "markdown",
   "id": "7580cc2e",
   "metadata": {},
   "source": [
    "## 2 - plot the decision boundaries of your model."
   ]
  },
  {
   "cell_type": "code",
   "execution_count": 42,
   "id": "0dcc4808",
   "metadata": {},
   "outputs": [
    {
     "name": "stderr",
     "output_type": "stream",
     "text": [
      "/usr/local/lib/python3.9/site-packages/seaborn/_decorators.py:36: FutureWarning: Pass the following variables as keyword args: x, y. From version 0.12, the only valid positional argument will be `data`, and passing other arguments without an explicit keyword will result in an error or misinterpretation.\n",
      "  warnings.warn(\n"
     ]
    },
    {
     "data": {
      "image/png": "[encoded data removed]",
      "text/plain": [
       "<Figure size 424x360 with 1 Axes>"
      ]
     },
     "metadata": {
      "needs_background": "light"
     },
     "output_type": "display_data"
    }
   ],
   "source": [
    "from sklearn import svm\n",
    "\n",
    "clf = svm.SVC(kernel = 'linear')\n",
    "clf = clf.fit(x_train, y_train)\n",
    "predictions = clf.predict(x_test)\n",
    "\n",
    "\n",
    "# Get the separating hyperplane\n",
    "w = clf.coef_[0]\n",
    "a = -w[0] / w[1]\n",
    "xx = np.linspace(0, 7)\n",
    "yy = a * xx - (clf.intercept_[0]) / w[1]\n",
    "\n",
    "# Plot the parallels to the separating hyperplane that pass through the support vectors\n",
    "b = clf.support_vectors_[0]\n",
    "yy_down = a * xx + (b[1] - a * b[0])\n",
    "b = clf.support_vectors_[-1]\n",
    "yy_up = a * xx + (b[1] - a * b[0])\n",
    "# Plot the hyperplane\n",
    "sns.lmplot('petal_length', 'petal_width', data=iris, hue='is_virginica', palette='Set1', fit_reg=False, scatter_kws={\"s\": 70})\n",
    "plt.plot(xx, yy, linewidth=2, color='black');\n"
   ]
  },
  {
   "cell_type": "markdown",
   "id": "f54daf77",
   "metadata": {},
   "source": [
    "## 3 - display the performance indicators of your model : precision score, recall score, confusion matrix and ROC Curve"
   ]
  },
  {
   "cell_type": "code",
   "execution_count": 55,
   "id": "9cf78e0b",
   "metadata": {},
   "outputs": [
    {
     "name": "stdout",
     "output_type": "stream",
     "text": [
      "Score:  0.9583333333333334\n"
     ]
    }
   ],
   "source": [
    "lsvc.fit(x_train, y_train)\n",
    "score = lsvc.score(x_train, y_train)\n",
    "print(\"Score: \", score)\n",
    "\n",
    "Score:  0.8602352941176471"
   ]
  },
  {
   "cell_type": "code",
   "execution_count": 56,
   "id": "b166fe4d",
   "metadata": {},
   "outputs": [
    {
     "name": "stdout",
     "output_type": "stream",
     "text": [
      "                 precision    recall  f1-score   support\n",
      "\n",
      "    Iris-setosa       1.00      1.00      1.00        12\n",
      "Iris-versicolor       0.77      1.00      0.87        10\n",
      " Iris-virginica       1.00      0.62      0.77         8\n",
      "\n",
      "       accuracy                           0.90        30\n",
      "      macro avg       0.92      0.88      0.88        30\n",
      "   weighted avg       0.92      0.90      0.89        30\n",
      "\n"
     ]
    }
   ],
   "source": [
    "ypred = lsvc.predict(x_test)\n",
    "cr = classification_report(y_test, ypred)\n",
    "print(cr)"
   ]
  },
  {
   "cell_type": "code",
   "execution_count": 57,
   "id": "24182be5",
   "metadata": {},
   "outputs": [
    {
     "data": {
      "text/html": [
       "<div>\n",
       "<style scoped>\n",
       "    .dataframe tbody tr th:only-of-type {\n",
       "        vertical-align: middle;\n",
       "    }\n",
       "\n",
       "    .dataframe tbody tr th {\n",
       "        vertical-align: top;\n",
       "    }\n",
       "\n",
       "    .dataframe thead th {\n",
       "        text-align: right;\n",
       "    }\n",
       "</style>\n",
       "<table border=\"1\" class=\"dataframe\">\n",
       "  <thead>\n",
       "    <tr style=\"text-align: right;\">\n",
       "      <th></th>\n",
       "      <th>SETOSA</th>\n",
       "      <th>VERSICOLR</th>\n",
       "      <th>VIRGINICA</th>\n",
       "    </tr>\n",
       "  </thead>\n",
       "  <tbody>\n",
       "    <tr>\n",
       "      <th>SETOSA</th>\n",
       "      <td>12</td>\n",
       "      <td>0</td>\n",
       "      <td>0</td>\n",
       "    </tr>\n",
       "    <tr>\n",
       "      <th>VERSICOLR</th>\n",
       "      <td>0</td>\n",
       "      <td>10</td>\n",
       "      <td>0</td>\n",
       "    </tr>\n",
       "    <tr>\n",
       "      <th>VIRGINICA</th>\n",
       "      <td>0</td>\n",
       "      <td>3</td>\n",
       "      <td>5</td>\n",
       "    </tr>\n",
       "  </tbody>\n",
       "</table>\n",
       "</div>"
      ],
      "text/plain": [
       "           SETOSA  VERSICOLR  VIRGINICA\n",
       "SETOSA         12          0          0\n",
       "VERSICOLR       0         10          0\n",
       "VIRGINICA       0          3          5"
      ]
     },
     "execution_count": 57,
     "metadata": {},
     "output_type": "execute_result"
    }
   ],
   "source": [
    "y_pred = model_SVC.predict(x_test)\n",
    "cm = confusion_matrix(y_test, y_pred)\n",
    "cm_df = pd.DataFrame(cm,\n",
    "                     index = ['SETOSA','VERSICOLR','VIRGINICA'], \n",
    "                     columns = ['SETOSA','VERSICOLR','VIRGINICA'])\n",
    "cm_df"
   ]
  },
  {
   "cell_type": "code",
   "execution_count": 58,
   "id": "0dd3dc00",
   "metadata": {},
   "outputs": [
    {
     "data": {
      "image/png": "[encoded data removed]",
      "text/plain": [
       "<Figure size 576x576 with 2 Axes>"
      ]
     },
     "metadata": {
      "needs_background": "light"
     },
     "output_type": "display_data"
    }
   ],
   "source": [
    "#Plotting the confusion matrix\n",
    "plt.figure(figsize=(8,8))\n",
    "sns.heatmap(cm_df, annot=True)\n",
    "plt.title('Confusion Matrix')\n",
    "plt.ylabel('Actal Values')\n",
    "plt.xlabel('Predicted Values')\n",
    "plt.show()"
   ]
  },
  {
   "cell_type": "markdown",
   "id": "27adf280",
   "metadata": {},
   "source": [
    "# Virginica"
   ]
  },
  {
   "cell_type": "markdown",
   "id": "c749bfea",
   "metadata": {},
   "source": [
    "## 1 - create a binary classifier to detect this kind of Iris using LinearSVC from sklearn."
   ]
  },
  {
   "cell_type": "code",
   "execution_count": 82,
   "id": "595d1b78",
   "metadata": {},
   "outputs": [
    {
     "name": "stdout",
     "output_type": "stream",
     "text": [
      "0.9333333333333333\n",
      "['Iris-setosa']\n"
     ]
    }
   ],
   "source": [
    "#traitement du fichier csv\n",
    "df = pd.read_csv(\"iris_dataset.csv\")\n",
    "a = df.loc[:, \"petal_length\"]\n",
    "b = df.loc[:, \"petal_width\"]\n",
    "x = list(zip(a, b))\n",
    "y = df.loc[:, \"species\"]\n",
    "df.head()\n",
    "#fractionner dataset (train-test)\n",
    "x_train, x_test, y_train, y_test = train_test_split(x, y, test_size = 0.20)\n",
    "#instanciation\n",
    "model_SVC = LinearSVC(C=1.0, class_weight=None, dual=True, fit_intercept=True,\n",
    "          intercept_scaling=1, loss='squared_hinge', max_iter=1000,\n",
    "          multi_class='ovr', penalty='l2', random_state=None, tol=0.0001,\n",
    "          verbose=0)\n",
    "\n",
    "#training\n",
    "lsvc = model_SVC.fit( x_train, y_train)\n",
    "\n",
    "#calcule de précision\n",
    "print( model_SVC.score( x_test, y_test))\n",
    "\n",
    "#Prédiction\n",
    "longueur = 2.5\n",
    "largeur = 0.75\n",
    "prediction = model_SVC.predict( [[longueur, largeur]])\n",
    "\n",
    "#affichage des résultats\n",
    "print(prediction)"
   ]
  },
  {
   "cell_type": "markdown",
   "id": "3c1a0723",
   "metadata": {},
   "source": [
    "# 2 - plot the decision boundaries of your model."
   ]
  },
  {
   "cell_type": "code",
   "execution_count": 89,
   "id": "f1033dcb",
   "metadata": {},
   "outputs": [
    {
     "data": {
      "image/png": "[encoded data removed]",
      "text/plain": [
       "<Figure size 424x360 with 1 Axes>"
      ]
     },
     "metadata": {
      "needs_background": "light"
     },
     "output_type": "display_data"
    }
   ],
   "source": [
    "# Get the separating hyperplane\n",
    "w = model_SVC.coef_[0]\n",
    "a = -w[0] / w[1]\n",
    "xx = np.linspace(0, 3.7)\n",
    "yy = a * xx - (model_SVC.intercept_[0]) / w[1]\n",
    "\n",
    "# Plot the parallels to the separating hyperplane that pass through the support vectors\n",
    "\n",
    "# Plot the hyperplane\n",
    "sns.lmplot(x='petal_length',y='petal_width', data=iris, hue='is_virginica', palette='Set1', fit_reg=False, scatter_kws={\"s\": 50})\n",
    "plt.plot(xx, yy, linewidth=2, color='black');"
   ]
  },
  {
   "cell_type": "markdown",
   "id": "a0a1a505",
   "metadata": {},
   "source": [
    "## 3 - display the performance indicators of your model : precision score, recall score, confusion matrix and ROC Curve"
   ]
  },
  {
   "cell_type": "code",
   "execution_count": 32,
   "id": "5d8407e6",
   "metadata": {},
   "outputs": [
    {
     "name": "stdout",
     "output_type": "stream",
     "text": [
      "Score:  1.0\n"
     ]
    }
   ],
   "source": [
    "lsvc.fit(x_train, y_train)\n",
    "score = lsvc.score(x_train, y_train)\n",
    "print(\"Score: \", score)\n",
    "\n",
    "Score:  0.8602352941176471"
   ]
  },
  {
   "cell_type": "code",
   "execution_count": 86,
   "id": "d9978bef",
   "metadata": {},
   "outputs": [
    {
     "name": "stdout",
     "output_type": "stream",
     "text": [
      "                 precision    recall  f1-score   support\n",
      "\n",
      "    Iris-setosa       1.00      1.00      1.00         6\n",
      "Iris-versicolor       1.00      0.85      0.92        13\n",
      " Iris-virginica       0.85      1.00      0.92        11\n",
      "\n",
      "       accuracy                           0.93        30\n",
      "      macro avg       0.95      0.95      0.94        30\n",
      "   weighted avg       0.94      0.93      0.93        30\n",
      "\n"
     ]
    }
   ],
   "source": [
    "ypred = lsvc.predict(x_test)\n",
    "cr = classification_report(y_test, ypred)\n",
    "print(cr)"
   ]
  },
  {
   "cell_type": "code",
   "execution_count": 87,
   "id": "ac4a1c8e",
   "metadata": {},
   "outputs": [
    {
     "data": {
      "text/html": [
       "<div>\n",
       "<style scoped>\n",
       "    .dataframe tbody tr th:only-of-type {\n",
       "        vertical-align: middle;\n",
       "    }\n",
       "\n",
       "    .dataframe tbody tr th {\n",
       "        vertical-align: top;\n",
       "    }\n",
       "\n",
       "    .dataframe thead th {\n",
       "        text-align: right;\n",
       "    }\n",
       "</style>\n",
       "<table border=\"1\" class=\"dataframe\">\n",
       "  <thead>\n",
       "    <tr style=\"text-align: right;\">\n",
       "      <th></th>\n",
       "      <th>SETOSA</th>\n",
       "      <th>VERSICOLR</th>\n",
       "      <th>VIRGINICA</th>\n",
       "    </tr>\n",
       "  </thead>\n",
       "  <tbody>\n",
       "    <tr>\n",
       "      <th>SETOSA</th>\n",
       "      <td>6</td>\n",
       "      <td>0</td>\n",
       "      <td>0</td>\n",
       "    </tr>\n",
       "    <tr>\n",
       "      <th>VERSICOLR</th>\n",
       "      <td>0</td>\n",
       "      <td>11</td>\n",
       "      <td>2</td>\n",
       "    </tr>\n",
       "    <tr>\n",
       "      <th>VIRGINICA</th>\n",
       "      <td>0</td>\n",
       "      <td>0</td>\n",
       "      <td>11</td>\n",
       "    </tr>\n",
       "  </tbody>\n",
       "</table>\n",
       "</div>"
      ],
      "text/plain": [
       "           SETOSA  VERSICOLR  VIRGINICA\n",
       "SETOSA          6          0          0\n",
       "VERSICOLR       0         11          2\n",
       "VIRGINICA       0          0         11"
      ]
     },
     "execution_count": 87,
     "metadata": {},
     "output_type": "execute_result"
    }
   ],
   "source": [
    "y_pred = model_SVC.predict(x_test)\n",
    "cm = confusion_matrix(y_test, y_pred)\n",
    "cm_df = pd.DataFrame(cm,\n",
    "                     index = ['SETOSA','VERSICOLR','VIRGINICA'], \n",
    "                     columns = ['SETOSA','VERSICOLR','VIRGINICA'])\n",
    "cm_df"
   ]
  },
  {
   "cell_type": "code",
   "execution_count": 88,
   "id": "18ec966b",
   "metadata": {},
   "outputs": [
    {
     "data": {
      "image/png": "[encoded data removed]",
      "text/plain": [
       "<Figure size 576x576 with 2 Axes>"
      ]
     },
     "metadata": {
      "needs_background": "light"
     },
     "output_type": "display_data"
    }
   ],
   "source": [
    "#Plotting the confusion matrix\n",
    "plt.figure(figsize=(8,8))\n",
    "sns.heatmap(cm_df, annot=True)\n",
    "plt.title('Confusion Matrix')\n",
    "plt.ylabel('Actal Values')\n",
    "plt.xlabel('Predicted Values')\n",
    "plt.show()"
   ]
  }
 ],
 "metadata": {
  "kernelspec": {
   "display_name": "Python 3 (ipykernel)",
   "language": "python",
   "name": "python3"
  },
  "language_info": {
   "codemirror_mode": {
    "name": "ipython",
    "version": 3
   },
   "file_extension": ".py",
   "mimetype": "text/x-python",
   "name": "python",
   "nbconvert_exporter": "python",
   "pygments_lexer": "ipython3",
   "version": "3.9.7"
  }
 },
 "nbformat": 4,
 "nbformat_minor": 5
}
