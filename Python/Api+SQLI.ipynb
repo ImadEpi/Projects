{
 "cells": [
  {
   "cell_type": "code",
   "execution_count": 1,
   "id": "4b6ac567",
   "metadata": {},
   "outputs": [],
   "source": [
    "import pandas as pd\n",
    "import requests\n",
    "import json"
   ]
  },
  {
   "cell_type": "code",
   "execution_count": 2,
   "id": "b25a7b11",
   "metadata": {},
   "outputs": [],
   "source": [
    "access_token = 'eyJ0eXAiOiJKV1QiLCJub25jZSI6IlB6Q19mX0RuU1M0bzRYSTRUeFFaQk1BSmV2Zl9XdndJMjlwSjRzV0tKTk0iLCJhbGciOiJSUzI1NiIsIng1dCI6Im5PbzNaRHJPRFhFSzFqS1doWHNsSFJfS1hFZyIsImtpZCI6Im5PbzNaRHJPRFhFSzFqS1doWHNsSFJfS1hFZyJ9.eyJhdWQiOiIwMDAwMDAwMy0wMDAwLTAwMDAtYzAwMC0wMDAwMDAwMDAwMDAiLCJpc3MiOiJodHRwczovL3N0cy53aW5kb3dzLm5ldC85MDFjYjRjYS1iODYyLTQwMjktOTMwNi1lNWNkMGY2ZDlmODYvIiwiaWF0IjoxNjI5MzYyMTk5LCJuYmYiOjE2MjkzNjIxOTksImV4cCI6MTYyOTM2NjA5OSwiYWNjdCI6MCwiYWNyIjoiMSIsImFpbyI6IkFVUUF1LzhUQUFBQThocFBOSFEvaVdmWk9OWkVYWXNtMHZqYm05TlZmZGVnbDJxZFpleG1mWnVpQ0RsZEljUEY0WmlXTDJaZ2pHV3dQN1lydGg3dnY1TGdzRDFkMmdva0VnPT0iLCJhbXIiOlsicHdkIiwibWZhIl0sImFwcF9kaXNwbGF5bmFtZSI6IkdyYXBoIEV4cGxvcmVyIiwiYXBwaWQiOiJkZThiYzhiNS1kOWY5LTQ4YjEtYThhZC1iNzQ4ZGE3MjUwNjQiLCJhcHBpZGFjciI6IjAiLCJmYW1pbHlfbmFtZSI6IkJlbmRhZGEiLCJnaXZlbl9uYW1lIjoiSW1hZCIsImlkdHlwIjoidXNlciIsImluX2NvcnAiOiJ0cnVlIiwiaXBhZGRyIjoiOTEuMTY2LjExNy4xNSIsIm5hbWUiOiJJbWFkIEJlbmRhZGEiLCJvaWQiOiI5ZjQ1NWRlZS00YTRlLTQ3NjAtYWY3MC1hM2IyNzk5NmY5YmIiLCJvbnByZW1fc2lkIjoiUy0xLTUtMjEtMTU1MjQzNTI3Ny0xNTk2NDk1Nzk1LTMwODk2MTM3MzEtNDI3OTgiLCJwbGF0ZiI6IjUiLCJwdWlkIjoiMTAwMzIwMDEzRkUyNkFCQyIsInJoIjoiMC5BWFFBeXJRY2tHSzRLVUNUQnVYTkQyMmZoclhJaTk3NTJiRklxSzIzU05weVVHUjBBRGsuIiwic2NwIjoiR3JvdXAuUmVhZC5BbGwgR3JvdXAuUmVhZFdyaXRlLkFsbCBvcGVuaWQgcHJvZmlsZSBVc2VyLlJlYWQgZW1haWwiLCJzaWduaW5fc3RhdGUiOlsia21zaSJdLCJzdWIiOiJNTHpISFRZdHdJbTR2VGpXVTlvYTVkVkFvM1I2TUR4ckh0N2ZKUFppam5RIiwidGVuYW50X3JlZ2lvbl9zY29wZSI6IkVVIiwidGlkIjoiOTAxY2I0Y2EtYjg2Mi00MDI5LTkzMDYtZTVjZDBmNmQ5Zjg2IiwidW5pcXVlX25hbWUiOiJpbWFkLmJlbmRhZGFAZXBpdGVjaC5ldSIsInVwbiI6ImltYWQuYmVuZGFkYUBlcGl0ZWNoLmV1IiwidXRpIjoiQzVxbHlDdnRmRVNYVUl4MnQzakxBQSIsInZlciI6IjEuMCIsIndpZHMiOlsiYjc5ZmJmNGQtM2VmOS00Njg5LTgxNDMtNzZiMTk0ZTg1NTA5Il0sInhtc19zdCI6eyJzdWIiOiJOOXpCY2FMZjdsVU5TUzlSeV8zU2NqQWhYNEtWamU4ajh5ay03RWhXNV9FIn0sInhtc190Y2R0IjoxNDE3ODA0ODg3fQ.DUAgWsUtsU82Ngf8SncGddeDuytq048hoQSMGNgcdj1QOTQFjksTmTOGmS8U3rW4FH06UMNWcMR6BrdBud6aT9WUq836wrTennaofNORjHL14ZzRcT8-kPV9UTNEJiFzsb34kS3jqj4vvOo7FuOAXUqHspNaUnkrm8aURqYhGrswOJZgg5LMrstmlvApcOHGQJstpVcKbrfM163n7M1Ii3FRkdLETPqVcTzBPC_pnYBsTbkFE10OKMEog30KKUvsq323WYmOBGwyHG4eLIDA_4r5j1lBwdTCkaFXbUzJQZG2P278cv8wmiJm0lugYRB4D0d8Xai3aSuTbMo9fLeE2g'"
   ]
  },
  {
   "cell_type": "code",
   "execution_count": 3,
   "id": "736f6727",
   "metadata": {},
   "outputs": [],
   "source": [
    "def member_of():\n",
    "    url = 'https://graph.microsoft.com/beta/me/memberOf'\n",
    "    r = requests.get(url, headers={'Authorization': 'Bearer ' + access_token})\n",
    "    data = r.json()['value']\n",
    "    teams = {team['displayName'] : team['id'] for team in data}\n",
    "    return teams\n",
    "        "
   ]
  },
  {
   "cell_type": "code",
   "execution_count": 4,
   "id": "d8e94f34",
   "metadata": {
    "scrolled": true
   },
   "outputs": [
    {
     "name": "stdout",
     "output_type": "stream",
     "text": [
      "Dev&Go Remote Mai 2021\n",
      "3e97eadc-6ef9-4fae-8703-81b3cf8626fd\n",
      "DATA/IA Aout 2021\n",
      "fd09056a-a911-4a07-b310-e82a6b919e55\n",
      "Data & Go Aout 2021\n",
      "33999f95-1103-45f1-aeeb-8b4b445278f4\n"
     ]
    }
   ],
   "source": [
    "teams = member_of()\n",
    "for name,id in teams.items():\n",
    "    print(name)\n",
    "    print(id)"
   ]
  },
  {
   "cell_type": "code",
   "execution_count": 4,
   "id": "4144bd79",
   "metadata": {},
   "outputs": [],
   "source": [
    "def get_channels(team_id):\n",
    "    url = 'https://graph.microsoft.com/beta/teams/'+team_id+'/channels'\n",
    "    r = requests.get(url, headers={'Authorization': 'Bearer ' + access_token})\n",
    "    data = r.json()['value']\n",
    "    channels = [channel['displayName']for channel in data]\n",
    "    return channels"
   ]
  },
  {
   "cell_type": "code",
   "execution_count": 7,
   "id": "c707d206",
   "metadata": {},
   "outputs": [
    {
     "name": "stdout",
     "output_type": "stream",
     "text": [
      "General\n",
      "C-DAT-100 - Piscine Python\n",
      "C-DAT-200 - Data Analysis\n",
      "C-DAT-300 Machine Learning Project\n",
      "C-DAT-500 - NLP\n",
      "C-DAT-600 - Piscine Machine Learning\n",
      "C-DAT-700 - Big Data\n",
      "C-DAT-800 - Culture Data IA\n",
      "C-DAT-900 - End of Course Project\n"
     ]
    }
   ],
   "source": [
    "channels = get_channels('fd09056a-a911-4a07-b310-e82a6b919e55')\n",
    "for channel in channels:\n",
    "    print(channel)"
   ]
  },
  {
   "cell_type": "code",
   "execution_count": 9,
   "id": "d6a45ddd",
   "metadata": {},
   "outputs": [],
   "source": [
    "def get_replies(team_id, channel_id,message_id):\n",
    "    url = 'https://graph.microsoft.com/beta/teams/'+team_id+'/channels/'+channel_id+'/messages/'+message_id+'/replies'\n",
    "    r = requests.get(url, headers={'Authorization': 'Bearer ' + access_token})\n",
    "    data = r.json()['value']\n",
    "    replies = [reply['body']['content']for reply in data]\n",
    "    return replies"
   ]
  },
  {
   "cell_type": "code",
   "execution_count": 10,
   "id": "0fa32f8e",
   "metadata": {},
   "outputs": [],
   "source": [
    "def get_messages(team_id, channel_id):\n",
    "    \n",
    "    url = 'https://graph.microsoft.com/beta/teams/'+team_id+'/channels/'+channel_id+'/messages'\n",
    "    r = requests.get(url, headers={'Authorization': 'Bearer ' + access_token})\n",
    "    data = r.json()['value']\n",
    "    messages ={}\n",
    "    for message in data:\n",
    "        message_id = message['id']\n",
    "        replies = get_replies(team_id, channel_id, message_id)\n",
    "        messages[message ['body']['content']] = replies\n",
    "    return messages"
   ]
  },
  {
   "cell_type": "code",
   "execution_count": 12,
   "id": "90c00ff7",
   "metadata": {},
   "outputs": [
    {
     "data": {
      "text/plain": [
       "{'<div><div><at id=\"0\">Students</at>&nbsp;Bonjour les vidéos des kick-off et bientôt des Culture Data IA, sont diponible sur Stream. Vous pouvez tous y accéder <span class=\"animated-emoticon-20\" title=\"Sourire\" type=\"smile\"><img itemid=\"smile\" itemscope=\"\" itemtype=\"http://schema.skype.com/Emoji\" src=\"https://statics.teams.cdn.office.net/evergreen-assets/personal-expressions/v1/assets/emoticons/smile/default/20_f.png?etag=v73\" alt=\"🙂\" style=\"width:20px; height:20px\"></span></div>\\n\\n<div>&nbsp;</div>\\n\\n<div><a href=\"https://web.microsoftstream.com/video/959c2fc1-1d07-4f57-849a-fd6bbc5c4644\" rel=\"noreferrer noopener\" target=\"_blank\" title=\"https://web.microsoftstream.com/video/959c2fc1-1d07-4f57-849a-fd6bbc5c4644\">https://web.microsoftstream.com/video/959c2fc1-1d07-4f57-849a-fd6bbc5c4644</a><attachment id=\"a90f6b4dabe6449a99ccf965df805568\"></attachment></div>\\n</div>': [],\n",
       " 'ex_04 : je galère à avoir un truc lisible notamment à cause du nombre de taxes différentes. faut-il forcément les afficher ?': ['Oui vous pouvez ',\n",
       "  \"ok merci. est-ce qu'on peut output plusieurs charts ? comme sur l'exemple donné à l'exercice 3 ?\",\n",
       "  '<div><div>Garde uniquement ce qui est pertinent <span class=\"animated-emoticon-20\" title=\"Clin d’oeil\" type=\"wink\"><img itemid=\"wink\" itemscope=\"\" itemtype=\"http://schema.skype.com/Emoji\" src=\"https://statics.teams.cdn.office.net/evergreen-assets/personal-expressions/v1/assets/emoticons/wink/default/20_f.png?etag=v9\" alt=\"😉\" style=\"width:20px; height:20px\"></span></div>\\n</div>'],\n",
       " 'ex_03 : il y a un type de chart spécifique à afficher ou on peut choisir ?': ['Tu peux choisir\\xa0'],\n",
       " '<div><div>pour l\\'exercice 1, vous avez trouvé comment interpréter \"Auvergne-Rhone-Alpes\" ?</div>\\n\\n<div>car rien n\\'est ramené par ma requête</div>\\n</div>': [\"pareil j'en ai 12 aussi\",\n",
       "  'cést uniquement la cvae pour la region auvergne rhone alpes',\n",
       "  '<div><div><span><img height=\"250\" src=\"https://graph.microsoft.com/beta/teams/fd09056a-a911-4a07-b310-e82a6b919e55/channels/19:M-ZSgJea6cr5C6pA7SQR-8OIymwFbaQ4mYiGt6gAyPs1@thread.tacv2/messages/1629193471854/replies/1629195673330/hostedContents/aWQ9eF8wLXdldS1kNS1hMzdjOTc0ZWQ3NGRjMjFhZDcxMzI5YzhiNGQyN2QxZCx0eXBlPTEsdXJsPWh0dHBzOi8vZXUtYXBpLmFzbS5za3lwZS5jb20vdjEvb2JqZWN0cy8wLXdldS1kNS1hMzdjOTc0ZWQ3NGRjMjFhZDcxMzI5YzhiNGQyN2QxZC92aWV3cy9pbWdv/$value\" width=\"254.9800796812749\" style=\"vertical-align:bottom; width:254px; height:250px\"></span>\\n\\n</div>\\n\\n\\n</div>',\n",
       "  \"Tu dois avoir raison Baptiste, j'avais compte la totalite de la tax\",\n",
       "  'qqun a reussi a changer le format du montant en XX euros?',\n",
       "  '<div>\\n<div itemprop=\"copy-paste-block\">\\n\\n<pre style=\"font-size:14px\">year\\n2012    4.555567e+08\\n2013    4.814292e+08\\n2014    4.822568e+08\\n2015    4.986351e+08\\n2016    5.065459e+08\\n2017    1.060241e+09\\n2018    1.066618e+09\\n2019    1.136670e+09\\n</pre>\\n\\n\\n<div>j\\'ai cherché d\\'une autre façon mais j\\'ai pas les même résultats, tu trouves combien de rows pour auvergne... + CVAE ?</div>\\n</div>\\n</div>',\n",
       "  '<div><div><a href=\"https://stackoverflow.com/questions/30244952/how-do-i-create-a-new-column-from-the-output-of-pandas-groupby-sum\" rel=\"noreferrer noopener\" target=\"_blank\" title=\"https://stackoverflow.com/questions/30244952/how-do-i-create-a-new-column-from-the-output-of-pandas-groupby-sum\">https://stackoverflow.com/questions/30244952/how-do-i-create-a-new-column-from-the-output-of-pandas-groupby-sum</a></div>\\n</div>',\n",
       "  'il faut utilser groupby et sum',\n",
       "  'sortir la tax CVAE en fonction de la région',\n",
       "  \"cést la somme ou c'est sortir la region?\",\n",
       "  '<div><div>\\n<div><span><img height=\"234\" src=\"https://graph.microsoft.com/beta/teams/fd09056a-a911-4a07-b310-e82a6b919e55/channels/19:M-ZSgJea6cr5C6pA7SQR-8OIymwFbaQ4mYiGt6gAyPs1@thread.tacv2/messages/1629193471854/replies/1629193553036/hostedContents/aWQ9eF8wLXdldS1kMi1jODgyYmJlMzZlMjkyNGI0ODBlMjQxYjcwNDY1ZDc4Zix0eXBlPTEsdXJsPWh0dHBzOi8vZXUtYXBpLmFzbS5za3lwZS5jb20vdjEvb2JqZWN0cy8wLXdldS1kMi1jODgyYmJlMzZlMjkyNGI0ODBlMjQxYjcwNDY1ZDc4Zi92aWV3cy9pbWdv/$value\" width=\"552\" style=\"vertical-align:bottom; width:552px; height:234px\"></span>\\n\\n</div>\\n\\n\\n</div>\\n</div>',\n",
       "  \"normal, c'est Auvergne-Rhône-Alpes\",\n",
       "  'qu appelles tu interpreter?',\n",
       "  '<div><div>\\n<div>\\n<div><at id=\"0\">Students</at>&nbsp;une idée ? <span class=\"animated-emoticon-20\" title=\"Clin d’oeil\" type=\"wink\"><img itemid=\"wink\" itemscope=\"\" itemtype=\"http://schema.skype.com/Emoji\" src=\"https://statics.teams.cdn.office.net/evergreen-assets/personal-expressions/v1/assets/emoticons/wink/default/20_f.png?etag=v9\" alt=\"😉\" style=\"width:20px; height:20px\"></span></div>\\n</div>\\n</div>\\n</div>'],\n",
       " '<div><div>ok, je me suis fié au PDF, merci <span class=\"animated-emoticon-20\" title=\"Clin d’oeil\" type=\"wink\"><img itemid=\"wink\" itemscope=\"\" itemtype=\"http://schema.skype.com/Emoji\" src=\"https://statics.teams.cdn.office.net/evergreen-assets/personal-expressions/v1/assets/emoticons/wink/default/20_f.png?etag=v9\" alt=\"😉\" style=\"width:20px; height:20px\"></span></div>\\n\\n\\n\\n\\n\\n\\n</div>': [],\n",
       " '': [],\n",
       " '<systemEventMessage/>': [],\n",
       " 'Juste un petit point pour voir où vous en êtes sur la première journée !<attachment id=\"1629103981075\"></attachment>': ['<systemEventMessage/>',\n",
       "  'Bon courage à toutes/tous !',\n",
       "  'bon après-midi',\n",
       "  'ok merci\\xa0',\n",
       "  'ok',\n",
       "  '<p>ok merci <span title=\"Clin d’oeil\" type=\"(wink)\" class=\"animated-emoticon-20-wink\"><img itemscope=\"\" itemtype=\"http://schema.skype.com/Emoji\" itemid=\"wink\" src=\"https://statics.teams.cdn.office.net/evergreen-assets/personal-expressions/v1/assets/emoticons/wink/default/20_f.png\" title=\"Clin d’oeil\" alt=\"😉\" style=\"width:20px; height:20px\"></span></p>',\n",
       "  '<p>la value de la key \"values\" dans le json sera toujours un seul nombre ?</p>\\n<p><br>\\n</p>\\n<p>{</p>\\n<p> \"value\":  42</p>\\n<p>\"cat\": \"transport\"</p>\\n<p>}</p>\\n<p><br>\\n</p>\\n<p>ou prendre en compte la possibilité</p>\\n<p><br>\\n</p>\\n<p><br>\\n</p>\\n<p>{</p>\\n<p>\"value\":  [1, 2, 3]<br>\\n</p>\\n<p>\"cat\": \"transport\"</p>\\n<p>}</p>',\n",
       "  '<p>ou ça peut etre une liste ?</p>',\n",
       "  '<p>donc dans le json les values sont just un int ou un float</p>',\n",
       "  '<p>ou les deux ?</p>',\n",
       "  '<p>dans le 2 la methode add_transactions prend en param: UNE liste contenant des nombres ou en param: un nombre indéfini de int/float ?</p>',\n",
       "  \"<p>Après, à partir du moment que tu connais un langage, tu peux t'adapter beaucoup plus rapidement à d'autres langages aussi. ^^ </p>\",\n",
       "  \"Pour l ínstant oui, j'ai eu plus de mal a comprendre l'enonce de l 'ex 2\",\n",
       "  \"Car c'est hype en ce moment je trouve.\",\n",
       "  '<div><div>Il faut faire attention à l\\'indentation ^^&nbsp;</div>\\n\\n<div>Après les entreprises et les devs en général adorent Python <span class=\"animated-emoticon-20\" title=\"Clin d’oeil\" type=\"wink\"><img itemid=\"wink\" itemscope=\"\" itemtype=\"http://schema.skype.com/Emoji\" src=\"https://statics.teams.cdn.office.net/evergreen-assets/personal-expressions/v1/assets/emoticons/wink/default/20_f.png?etag=v9\" alt=\"😉\" style=\"width:20px; height:20px\"></span></div>\\n</div>',\n",
       "  \"pour l'instant oui\",\n",
       "  '<p>mouais</p>',\n",
       "  '<p>oui</p>',\n",
       "  \"<p>l'aprem</p>\",\n",
       "  \"Et n'hésitez pas à poser des questions sur Teams à l’écrit, je vais faire des petits tours toute la semaine.\"],\n",
       " \"Pour línstant oui, j'ai eu plus de mal a comprendre l'enonce de léxercice 2\": [],\n",
       " 'Bonjour!!': ['Allez on commence ! On setupera tout ça juste après',\n",
       "  'Bonjour !',\n",
       "  'Bonjour',\n",
       "  'Bonjour de NANCY']}"
      ]
     },
     "execution_count": 12,
     "metadata": {},
     "output_type": "execute_result"
    }
   ],
   "source": [
    "get_messages('fd09056a-a911-4a07-b310-e82a6b919e55','19:M-ZSgJea6cr5C6pA7SQR-8OIymwFbaQ4mYiGt6gAyPs1@thread.tacv2')\n"
   ]
  },
  {
   "cell_type": "code",
   "execution_count": 13,
   "id": "1e470b09",
   "metadata": {},
   "outputs": [],
   "source": [
    "import sqlite3\n",
    "import sqlalchemy as sqla\n",
    "from sqlalchemy import MetaData, Table, String, Column, Text, DateTime, Boolean, Integer, ForeignKey, insert\n",
    "from datetime import datetime"
   ]
  },
  {
   "cell_type": "code",
   "execution_count": 14,
   "id": "da8ae3f5",
   "metadata": {},
   "outputs": [],
   "source": [
    "metadata = MetaData()"
   ]
  },
  {
   "cell_type": "code",
   "execution_count": 15,
   "id": "02343782",
   "metadata": {},
   "outputs": [
    {
     "data": {
      "text/plain": [
       "<sqlalchemy.engine.base.Connection at 0x1207826a0>"
      ]
     },
     "execution_count": 15,
     "metadata": {},
     "output_type": "execute_result"
    }
   ],
   "source": [
    "engine = sqla.create_engine('sqlite:////Users/imad/EXO_04')\n",
    "conn = engine.connect()\n",
    "conn"
   ]
  },
  {
   "cell_type": "code",
   "execution_count": 16,
   "id": "415af8bb",
   "metadata": {},
   "outputs": [],
   "source": [
    "teamsTable = sqla.Table('teams', metadata, \n",
    "    Column('team_id', Text(), primary_key=True),\n",
    "    Column('displayName', Text(), nullable=False),extend_existing=True)\n",
    "channelsTable = Table('channels', metadata, \n",
    "    Column('channel_id', Text(), primary_key=True),\n",
    "    Column('display_name', Text(), nullable=False),\n",
    "    Column('team_id', Text(), sqla.ForeignKey('teams.team_id')),extend_existing=True)\n",
    "messagesTable = Table('messages',metadata,\n",
    "    Column('message_id', Text(), primary_key=True),\n",
    "    Column('content', Text()),\n",
    "    Column('channel_id',Text(), sqla.ForeignKey('channels.channel_id')),extend_existing=True)\n",
    "repliesTable = Table('replies',metadata,\n",
    "    Column('reply_id',Text(), primary_key=True),\n",
    "    Column('content',Text()),\n",
    "    Column('message_id',Text(), sqla.ForeignKey('messages.message_id')),extend_existing=True)"
   ]
  },
  {
   "cell_type": "code",
   "execution_count": 14,
   "id": "1c4e13d7",
   "metadata": {},
   "outputs": [],
   "source": [
    "metadata.create_all(engine)"
   ]
  },
  {
   "cell_type": "code",
   "execution_count": 15,
   "id": "956b1706",
   "metadata": {},
   "outputs": [],
   "source": [
    "def get_channels_withId(team_id):\n",
    "    url = 'https://graph.microsoft.com/beta/teams/'+team_id+'/channels'\n",
    "    r = requests.get(url, headers={'Authorization': 'Bearer ' + access_token})\n",
    "    if 'value' in r.json(): \n",
    "        data = r.json()['value']\n",
    "        channels = {channel['displayName'] : channel['id'] for channel in data}\n",
    "        return channels\n",
    "    else:\n",
    "        return {}"
   ]
  },
  {
   "cell_type": "code",
   "execution_count": 16,
   "id": "3b45cfa2",
   "metadata": {},
   "outputs": [],
   "source": [
    "def get_messages_withId(team_id, channel_id):\n",
    "    \n",
    "    url = 'https://graph.microsoft.com/beta/teams/'+team_id+'/channels/'+channel_id+'/messages'\n",
    "    r = requests.get(url, headers={'Authorization': 'Bearer ' + access_token})\n",
    "    data = r.json()['value']\n",
    "    messages ={}\n",
    "    \n",
    "    for message in data:\n",
    "        message_id = message['id']\n",
    "        replies = get_replies_withId(team_id, channel_id, message_id)\n",
    "        messages[message['id']] = {'content' : message ['body']['content'], 'replies' : replies}\n",
    "    return messages"
   ]
  },
  {
   "cell_type": "code",
   "execution_count": 17,
   "id": "2632df27",
   "metadata": {},
   "outputs": [],
   "source": [
    "def get_replies_withId(team_id, channel_id,message_id):\n",
    "    url = 'https://graph.microsoft.com/beta/teams/'+team_id+'/channels/'+channel_id+'/messages/'+message_id+'/replies'\n",
    "    r = requests.get(url, headers={'Authorization': 'Bearer ' + access_token})\n",
    "    data = r.json()['value']\n",
    "    replies = {reply['id'] : reply['body']['content'] for reply in data}\n",
    "    return replies"
   ]
  },
  {
   "cell_type": "code",
   "execution_count": 18,
   "id": "60b07667",
   "metadata": {},
   "outputs": [],
   "source": [
    "teams = member_of()\n",
    "for name,teamId in teams.items():\n",
    "    engine.execute(teamsTable.insert(), team_id=teamId, displayName=name)\n",
    "    channels = get_channels_withId(teamId)\n",
    "    for channelName,channelId in channels.items():\n",
    "        engine.execute(channelsTable.insert(), channel_id=channelId, display_name=channelName, team_id=teamId)\n",
    "        messages = get_messages_withId(teamId,channelId) \n",
    "        for messageId, contentReplies in messages.items():\n",
    "            engine.execute(messagesTable.insert(), message_id=messageId, content=contentReplies['content'], channel_id=channelId)\n",
    "            replies = contentReplies['replies']\n",
    "            for replyId, replyContent in replies.items():\n",
    "                engine.execute(repliesTable.insert(), reply_id=replyId, content=replyContent, message_id=messageId)\n",
    "    "
   ]
  }
 ],
 "metadata": {
  "kernelspec": {
   "display_name": "Python 3 (ipykernel)",
   "language": "python",
   "name": "python3"
  },
  "language_info": {
   "codemirror_mode": {
    "name": "ipython",
    "version": 3
   },
   "file_extension": ".py",
   "mimetype": "text/x-python",
   "name": "python",
   "nbconvert_exporter": "python",
   "pygments_lexer": "ipython3",
   "version": "3.9.7"
  }
 },
 "nbformat": 4,
 "nbformat_minor": 5
}
